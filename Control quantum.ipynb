{
 "cells": [
  {
   "cell_type": "code",
   "execution_count": 1,
   "metadata": {},
   "outputs": [],
   "source": [
    "from qiskit import *\n",
    "from qiskit.tools.jupyter import *\n",
    "from qiskit.visualization import *\n",
    "import numpy as np\n",
    "from qiskit.providers.aer import QasmSimulator\n",
    "from qiskit.quantum_info import Statevector\n",
    "from qiskit.visualization import plot_state_paulivec\n",
    "from qiskit.tools.monitor import job_monitor\n",
    "from qiskit.circuit import Parameter\n"
   ]
  },
  {
   "cell_type": "code",
   "execution_count": 5,
   "metadata": {},
   "outputs": [
    {
     "data": {
      "text/plain": [
       "<AccountProvider for IBMQ(hub='ibm-q', group='open', project='main')>"
      ]
     },
     "execution_count": 5,
     "metadata": {},
     "output_type": "execute_result"
    }
   ],
   "source": [
    "IBMQ.load_account()"
   ]
  },
  {
   "cell_type": "code",
   "execution_count": 4,
   "metadata": {},
   "outputs": [],
   "source": [
    "gamma=Parameter('gamma')"
   ]
  },
  {
   "cell_type": "code",
   "execution_count": 5,
   "metadata": {},
   "outputs": [],
   "source": [
    "def schedule_Trotterization(list_T,list_N):\n",
    "    #T: time step\n",
    "    #N:trotterization number\n",
    "    \n",
    "    gammas=[]\n",
    "    for i in range(len(list_T)):\n",
    "        delta_t=list_T[i]/list_N[i]\n",
    "        \n",
    "        gammas+=[np.pi * delta_t]\n",
    "        \n",
    "        \n",
    "    return gammas\n"
   ]
  },
  {
   "cell_type": "code",
   "execution_count": 6,
   "metadata": {},
   "outputs": [],
   "source": [
    "def N_circuit(depth, gamma, loop):\n",
    "    \n",
    "    Ncirc = QuantumCircuit(depth)\n",
    "    \n",
    "    #1) bell state to test if my circuit is working or not\n",
    "    #Ncirc.h(0)\n",
    "    #Ncirc.cx(0,1)\n",
    " \n",
    "    #initial_state = [0,1]   \n",
    "    #Ncirc.initialize(initial_state, 0)\n",
    "    #Ncirc.initialize(initial_state, 1)\n",
    "    Ncirc.x(1)\n",
    "    Ncirc.barrier()\n",
    "    for ii in range(loop): \n",
    "            \n",
    "            \n",
    "        Ncirc.h(0)\n",
    "        Ncirc.h(1)\n",
    "        Ncirc.rzz(gamma,0,1)\n",
    "    \n",
    "        Ncirc.barrier()\n",
    "    \n",
    "        Ncirc.h(0)\n",
    "        Ncirc.h(1)\n",
    "        Ncirc.rzz(gamma,0,1)\n",
    "        Ncirc.rz(np.pi/4,0)\n",
    "        Ncirc.rz(np.pi/4,1)\n",
    "    \n",
    "        Ncirc.barrier()\n",
    "\n",
    "        Ncirc.h(0)\n",
    "        Ncirc.h(1)\n",
    "        Ncirc.rzz(gamma,0,1)\n",
    "        Ncirc.h(0)\n",
    "        Ncirc.h(1)\n",
    "        Ncirc.rz(-1* np.pi/4,0)\n",
    "        Ncirc.rz(-1*np.pi/4,1)\n",
    "            \n",
    "\n",
    "        \n",
    "    return Ncirc \n",
    "        \n",
    "        #4) After aplication of this circuit with initialization as X-gate, I get the statevector as '10' even though\n",
    "        # it is represented as '10' theoretically. \n",
    "        \n",
    "        #5) So, I need to read the measurement inverse order in Qiskit. \n",
    "        "
   ]
  },
  {
   "cell_type": "code",
   "execution_count": 7,
   "metadata": {},
   "outputs": [],
   "source": [
    "import math"
   ]
  },
  {
   "cell_type": "code",
   "execution_count": 11,
   "metadata": {},
   "outputs": [
    {
     "name": "stdout",
     "output_type": "stream",
     "text": [
      "[4, 7, 11, 14, 17, 20, 24, 27, 31, 34, 37, 41, 44, 47, 51, 54, 57, 61, 64, 67, 70, 74, 77, 81, 84, 87, 91, 94, 97]\n"
     ]
    }
   ],
   "source": [
    "print(list_N)"
   ]
  },
  {
   "cell_type": "code",
   "execution_count": 10,
   "metadata": {},
   "outputs": [],
   "source": [
    "list_T=[]\n",
    "list_periods= [i for i in np.arange(0.1,3,0.1)]\n",
    "for i in range(len(list_periods)):\n",
    "    list_T+=[list_periods[i]]\n",
    "\n",
    "max_delta_t=3*10**(-2)\n",
    "list_N=[]\n",
    "for j in range(len(list_T)):\n",
    "    list_N += [math.ceil(list_T[j]/max_delta_t)]\n",
    "\n",
    "gammas= schedule_Trotterization(list_T,list_N)"
   ]
  },
  {
   "cell_type": "code",
   "execution_count": 12,
   "metadata": {},
   "outputs": [],
   "source": [
    "A=[]\n",
    "for k in range(len(list_N)):\n",
    "\n",
    "    Ncirc = N_circuit(2, gammas[k], list_N[k])\n",
    "    \n",
    "    #initialization function:\n",
    "    #Ncirc.initialize(Statevector.from_label('11').data, range(2))\n",
    "\n",
    "    Ncirc.measure_all()\n",
    "    A.append(Ncirc)"
   ]
  },
  {
   "cell_type": "code",
   "execution_count": 15,
   "metadata": {},
   "outputs": [
    {
     "name": "stdout",
     "output_type": "stream",
     "text": [
      "61ea7dbe509b0359ecb64a90\n",
      "Job Status: job has successfully run\n"
     ]
    }
   ],
   "source": [
    "circuit = A\n",
    "#backend = BasicAer.get_backend('qasm_simulator')\n",
    "real_device = provider.get_backend('ibmq_belem')\n",
    "job= execute(circuit, backend= real_device, shots= 1024)\n",
    "\n",
    "\n",
    "result= job.result()\n",
    "counts= result.get_counts()\n",
    "\n",
    "print(job.job_id())\n",
    "job_monitor(job)"
   ]
  },
  {
   "cell_type": "code",
   "execution_count": 16,
   "metadata": {
    "scrolled": false
   },
   "outputs": [
    {
     "data": {
      "image/png": "[encoded data removed]",
      "text/plain": [
       "<Figure size 504x360 with 1 Axes>"
      ]
     },
     "execution_count": 16,
     "metadata": {},
     "output_type": "execute_result"
    }
   ],
   "source": [
    "plot_histogram(counts)"
   ]
  },
  {
   "cell_type": "code",
   "execution_count": null,
   "metadata": {},
   "outputs": [],
   "source": []
  },
  {
   "cell_type": "code",
   "execution_count": 40,
   "metadata": {
    "scrolled": false
   },
   "outputs": [
    {
     "name": "stdout",
     "output_type": "stream",
     "text": [
      "0.01570796326794896\n"
     ]
    }
   ],
   "source": [
    "print(max(gammas)-min(gammas))"
   ]
  },
  {
   "cell_type": "code",
   "execution_count": 41,
   "metadata": {},
   "outputs": [
    {
     "name": "stdout",
     "output_type": "stream",
     "text": [
      "[{'00': 71, '01': 119, '10': 788, '11': 46}, {'00': 73, '01': 430, '10': 442, '11': 79}, {'00': 113, '01': 566, '10': 208, '11': 137}, {'00': 143, '01': 531, '10': 108, '11': 242}, {'00': 199, '01': 338, '10': 232, '11': 255}, {'00': 184, '01': 250, '10': 324, '11': 266}, {'00': 281, '01': 174, '10': 351, '11': 218}, {'00': 298, '01': 196, '10': 334, '11': 196}, {'00': 314, '01': 249, '10': 273, '11': 188}]\n"
     ]
    }
   ],
   "source": [
    "print(counts)"
   ]
  },
  {
   "cell_type": "code",
   "execution_count": 42,
   "metadata": {},
   "outputs": [],
   "source": [
    "from qiskit.ignis.mitigation.measurement import (complete_meas_cal, CompleteMeasFitter)"
   ]
  },
  {
   "cell_type": "code",
   "execution_count": 43,
   "metadata": {},
   "outputs": [],
   "source": [
    "from qiskit.providers.ibmq.managed import *"
   ]
  },
  {
   "cell_type": "code",
   "execution_count": 44,
   "metadata": {},
   "outputs": [],
   "source": [
    "cal_circuits, state_labels = complete_meas_cal(qr = Ncirc.qregs[0],circlabel ='measerrormitigationcal')"
   ]
  },
  {
   "cell_type": "code",
   "execution_count": 60,
   "metadata": {},
   "outputs": [
    {
     "name": "stdout",
     "output_type": "stream",
     "text": [
      "61e150c4fb13d007bd512bf7\n",
      "Job Status: job has successfully run\n"
     ]
    }
   ],
   "source": [
    "cal_job = execute(cal_circuits,\n",
    "                 backend = real_device,\n",
    "                  shots= 1024,\n",
    "                  optimization_level = 0\n",
    "                 )\n",
    "print(cal_job.job_id())\n",
    "job_monitor(cal_job)\n",
    "cal_results = cal_job.result()"
   ]
  },
  {
   "cell_type": "code",
   "execution_count": 63,
   "metadata": {},
   "outputs": [
    {
     "data": {
      "text/plain": [
       "qiskit.result.result.Result"
      ]
     },
     "execution_count": 63,
     "metadata": {},
     "output_type": "execute_result"
    }
   ],
   "source": [
    "type(result)"
   ]
  },
  {
   "cell_type": "code",
   "execution_count": 64,
   "metadata": {},
   "outputs": [
    {
     "data": {
      "image/png": "[encoded data removed]",
      "text/plain": [
       "<Figure size 504x360 with 1 Axes>"
      ]
     },
     "execution_count": 64,
     "metadata": {},
     "output_type": "execute_result"
    }
   ],
   "source": [
    "plot_histogram(cal_results.get_counts(cal_circuits[1]))"
   ]
  },
  {
   "cell_type": "code",
   "execution_count": 65,
   "metadata": {},
   "outputs": [],
   "source": [
    "meas_fitter = CompleteMeasFitter(cal_results, state_labels)"
   ]
  },
  {
   "cell_type": "code",
   "execution_count": 66,
   "metadata": {},
   "outputs": [
    {
     "data": {
      "image/png": "[encoded data removed]",
      "text/plain": [
       "<Figure size 432x288 with 2 Axes>"
      ]
     },
     "metadata": {
      "needs_background": "light"
     },
     "output_type": "display_data"
    }
   ],
   "source": [
    "meas_fitter.plot_calibration()"
   ]
  },
  {
   "cell_type": "code",
   "execution_count": 67,
   "metadata": {},
   "outputs": [],
   "source": [
    "meas_filter = meas_fitter.filter"
   ]
  },
  {
   "cell_type": "code",
   "execution_count": 68,
   "metadata": {},
   "outputs": [],
   "source": [
    "mitigated_result = meas_filter.apply(result)\n"
   ]
  },
  {
   "cell_type": "code",
   "execution_count": 69,
   "metadata": {},
   "outputs": [
    {
     "data": {
      "image/png": "[encoded data removed]",
      "text/plain": [
       "<Figure size 504x360 with 1 Axes>"
      ]
     },
     "execution_count": 69,
     "metadata": {},
     "output_type": "execute_result"
    }
   ],
   "source": [
    "device_counts= result.get_counts(Ncirc)\n",
    "mitigated_counts = mitigated_result.get_counts(Ncirc)\n",
    "plot_histogram([device_counts, mitigated_counts], legend=['counts, noisy', 'mitigated_counts, mitigated'])"
   ]
  },
  {
   "cell_type": "code",
   "execution_count": null,
   "metadata": {},
   "outputs": [],
   "source": []
  }
 ],
 "metadata": {
  "kernelspec": {
   "display_name": "Python 3",
   "language": "python",
   "name": "python3"
  },
  "language_info": {
   "codemirror_mode": {
    "name": "ipython",
    "version": 3
   },
   "file_extension": ".py",
   "mimetype": "text/x-python",
   "name": "python",
   "nbconvert_exporter": "python",
   "pygments_lexer": "ipython3",
   "version": "3.8.5"
  }
 },
 "nbformat": 4,
 "nbformat_minor": 5
}
